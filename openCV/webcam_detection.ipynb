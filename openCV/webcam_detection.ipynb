{
 "cells": [
  {
   "cell_type": "code",
   "execution_count": 1,
   "metadata": {},
   "outputs": [],
   "source": [
    "import numpy as np\n",
    "import cv2\n",
    "import os\n",
    "os.chdir(r\"C:\\Users\\AKSHITA SHARMA\\Downloads\")"
   ]
  },
  {
   "cell_type": "code",
   "execution_count": 2,
   "metadata": {},
   "outputs": [],
   "source": []
  },
  {
   "cell_type": "code",
   "execution_count": 19,
   "metadata": {},
   "outputs": [
    {
     "name": "stdout",
     "output_type": "stream",
     "text": [
      "Number of faces found: 1\n"
     ]
    }
   ],
   "source": [
    "haar_classifier=cv2.CascadeClassifier('haarcascade_frontalface_alt.xml')\n",
    "eye_cascade= cv2.CascadeClassifier('haarcascade_eye.xml')\n",
    "cap=cv2.VideoCapture(0)\n",
    "while True:\n",
    "    ret, frame=cap.read()                       #ret-True or False( getting an image or not)\n",
    "    #frame- getting the frame\n",
    "    gray_img=cv2.cvtColor(frame,cv2.COLOR_BGR2GRAY)\n",
    "    out.write(frame)\n",
    "    faces= haar_classifier.detectMultiScale(gray_img,scaleFactor=1.1,minNeighbors=5)\n",
    "    \n",
    "    for (x,y,width,height) in faces:\n",
    "        cv2.rectangle(frame,(x,y),(x+width, y+height),(0,255,0),2)\n",
    "        roi_gray=gray_img[y:y+height, x: x+width]\n",
    "        roi_color=frame[y:y+height, x: x+width]\n",
    "        eyes=eye_cascade.detectMultiScale(roi_gray)\n",
    "        for(ex,ey,ew,eh) in eyes:\n",
    "            cv2.rectangle(roi_color,(ex,ey),(ex+ew,ey+eh),(0,255,0),2)\n",
    "        \n",
    "    cv2.imshow(\"frame\",frame)\n",
    "  #  cv2.imshow(\"gray\",gray_img)\n",
    "    if cv2.waitKey(1) & 0xFF==ord(\"q\"):\n",
    "        #waitkey- key to be pressed to stop\n",
    "        break       \n",
    "print('Number of faces found: {faces}'.format(faces=len(faces)))\n",
    "cap.release()                                   #release the camera\n",
    "out.release()\n",
    "cv2.destroyAllWindows()"
   ]
  },
  {
   "cell_type": "code",
   "execution_count": null,
   "metadata": {},
   "outputs": [],
   "source": []
  }
 ],
 "metadata": {
  "kernelspec": {
   "display_name": "Python 3",
   "language": "python",
   "name": "python3"
  },
  "language_info": {
   "codemirror_mode": {
    "name": "ipython",
    "version": 3
   },
   "file_extension": ".py",
   "mimetype": "text/x-python",
   "name": "python",
   "nbconvert_exporter": "python",
   "pygments_lexer": "ipython3",
   "version": "3.7.3"
  }
 },
 "nbformat": 4,
 "nbformat_minor": 2
}
