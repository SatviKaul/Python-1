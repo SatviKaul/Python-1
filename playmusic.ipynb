{
 "cells": [
  {
   "cell_type": "code",
   "execution_count": 7,
   "metadata": {},
   "outputs": [
    {
     "name": "stdout",
     "output_type": "stream",
     "text": [
      "Requirement already satisfied: numpy in c:\\users\\akshita sharma\\anaconda3\\lib\\site-packages (1.16.2)\n"
     ]
    }
   ],
   "source": [
    "!pip install numpy"
   ]
  },
  {
   "cell_type": "code",
   "execution_count": 8,
   "metadata": {},
   "outputs": [
    {
     "name": "stdout",
     "output_type": "stream",
     "text": [
      "Collecting pygame\n",
      "  Downloading https://files.pythonhosted.org/packages/ed/56/b63ab3724acff69f4080e54c4bc5f55d1fbdeeb19b92b70acf45e88a5908/pygame-1.9.6-cp37-cp37m-win_amd64.whl (4.3MB)\n",
      "Installing collected packages: pygame\n",
      "Successfully installed pygame-1.9.6\n"
     ]
    }
   ],
   "source": [
    "!pip install pygame"
   ]
  },
  {
   "cell_type": "code",
   "execution_count": 9,
   "metadata": {},
   "outputs": [
    {
     "name": "stdout",
     "output_type": "stream",
     "text": [
      "pygame 1.9.6\n",
      "Hello from the pygame community. https://www.pygame.org/contribute.html\n"
     ]
    }
   ],
   "source": [
    "import pygame as pg"
   ]
  },
  {
   "cell_type": "code",
   "execution_count": 10,
   "metadata": {},
   "outputs": [],
   "source": [
    "def play_music(music_file, volume=0.8):\n",
    "  freq= 44100\n",
    "  bitsize= -16\n",
    "  channels=2\n",
    "  buffer=2048\n",
    "  pg.mixer.init(freq,bitsize,channels,buffer)\n",
    "  pg.mixer.music.set_volume(volume)\n",
    "  clock= pg.time.Clock()\n",
    "  try:\n",
    "    pg.mixer.music.load(music_file)\n",
    "    print(\"Music file {} loaded!\".format(music_file))\n",
    "  except pg.error:\n",
    "    print(\"File {} not found! ({})\".format(music_file,pg.get_error()))\n",
    "    return\n",
    "  pg.mixer.music.play()\n",
    "  while pg.mixer.music.get_busy():\n",
    "    clock.tick(30)"
   ]
  },
  {
   "cell_type": "code",
   "execution_count": 11,
   "metadata": {},
   "outputs": [],
   "source": [
    "import os\n",
    "os.chdir(r\"C:\\Users\\AKSHITA SHARMA\\Downloads\")"
   ]
  },
  {
   "cell_type": "code",
   "execution_count": 13,
   "metadata": {},
   "outputs": [
    {
     "name": "stdout",
     "output_type": "stream",
     "text": [
      "Music file mobile-soda-machine-manufacturers-45352.mp3 loaded!\n"
     ]
    }
   ],
   "source": [
    "music_file=\"mobile-soda-machine-manufacturers-45352.mp3\"\n",
    "volume=0.8\n",
    "play_music(music_file, volume)"
   ]
  },
  {
   "cell_type": "code",
   "execution_count": null,
   "metadata": {},
   "outputs": [],
   "source": []
  }
 ],
 "metadata": {
  "kernelspec": {
   "display_name": "Python 3",
   "language": "python",
   "name": "python3"
  },
  "language_info": {
   "codemirror_mode": {
    "name": "ipython",
    "version": 3
   },
   "file_extension": ".py",
   "mimetype": "text/x-python",
   "name": "python",
   "nbconvert_exporter": "python",
   "pygments_lexer": "ipython3",
   "version": "3.7.3"
  }
 },
 "nbformat": 4,
 "nbformat_minor": 2
}
