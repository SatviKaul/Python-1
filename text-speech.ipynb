{
 "cells": [
  {
   "cell_type": "code",
   "execution_count": 3,
   "metadata": {},
   "outputs": [
    {
     "name": "stdout",
     "output_type": "stream",
     "text": [
      "Requirement already satisfied: gtts in c:\\users\\akshita sharma\\anaconda3\\lib\\site-packages (2.0.3)\n",
      "Requirement already satisfied: six in c:\\users\\akshita sharma\\anaconda3\\lib\\site-packages (from gtts) (1.12.0)\n",
      "Requirement already satisfied: bs4 in c:\\users\\akshita sharma\\anaconda3\\lib\\site-packages (from gtts) (0.0.1)\n",
      "Requirement already satisfied: click in c:\\users\\akshita sharma\\anaconda3\\lib\\site-packages (from gtts) (7.0)\n",
      "Requirement already satisfied: gtts-token in c:\\users\\akshita sharma\\anaconda3\\lib\\site-packages (from gtts) (1.1.3)\n",
      "Requirement already satisfied: requests in c:\\users\\akshita sharma\\anaconda3\\lib\\site-packages (from gtts) (2.21.0)\n",
      "Requirement already satisfied: beautifulsoup4 in c:\\users\\akshita sharma\\anaconda3\\lib\\site-packages (from bs4->gtts) (4.7.1)\n",
      "Requirement already satisfied: idna<2.9,>=2.5 in c:\\users\\akshita sharma\\anaconda3\\lib\\site-packages (from requests->gtts) (2.8)\n",
      "Requirement already satisfied: urllib3<1.25,>=1.21.1 in c:\\users\\akshita sharma\\anaconda3\\lib\\site-packages (from requests->gtts) (1.24.1)\n",
      "Requirement already satisfied: certifi>=2017.4.17 in c:\\users\\akshita sharma\\anaconda3\\lib\\site-packages (from requests->gtts) (2019.3.9)\n",
      "Requirement already satisfied: chardet<3.1.0,>=3.0.2 in c:\\users\\akshita sharma\\anaconda3\\lib\\site-packages (from requests->gtts) (3.0.4)\n",
      "Requirement already satisfied: soupsieve>=1.2 in c:\\users\\akshita sharma\\anaconda3\\lib\\site-packages (from beautifulsoup4->bs4->gtts) (1.8)\n"
     ]
    }
   ],
   "source": [
    "!pip install gtts"
   ]
  },
  {
   "cell_type": "code",
   "execution_count": 6,
   "metadata": {},
   "outputs": [
    {
     "data": {
      "text/plain": [
       "1"
      ]
     },
     "execution_count": 6,
     "metadata": {},
     "output_type": "execute_result"
    }
   ],
   "source": [
    "from gtts import gTTS \n",
    "  \n",
    "# This module is imported so that we can  \n",
    "# play the converted audio \n",
    "import os \n",
    "os.chdir(r\"C:\\Users\\AKSHITA SHARMA\\Downloads\")\n",
    "  \n",
    "# The text that you want to convert to audio \n",
    "mytext = 'Hey, how you doing?'\n",
    "  \n",
    "# Language in which you want to convert \n",
    "language = 'en'\n",
    "  \n",
    "# Passing the text and language to the engine,  \n",
    "# here we have marked slow=False. Which tells  \n",
    "# the module that the converted audio should  \n",
    "# have a high speed \n",
    "myobj = gTTS(text=mytext, lang=language, slow=False) \n",
    "  \n",
    "# Saving the converted audio in a mp3 file named \n",
    "# welcome  \n",
    "myobj.save(\"welcome.mp3\") \n",
    "  \n",
    "# Playing the converted file \n",
    "os.system(\"mpg321 welcome.mp3\")"
   ]
  }
 ],
 "metadata": {
  "kernelspec": {
   "display_name": "Python 3",
   "language": "python",
   "name": "python3"
  },
  "language_info": {
   "codemirror_mode": {
    "name": "ipython",
    "version": 3
   },
   "file_extension": ".py",
   "mimetype": "text/x-python",
   "name": "python",
   "nbconvert_exporter": "python",
   "pygments_lexer": "ipython3",
   "version": "3.7.3"
  }
 },
 "nbformat": 4,
 "nbformat_minor": 2
}
