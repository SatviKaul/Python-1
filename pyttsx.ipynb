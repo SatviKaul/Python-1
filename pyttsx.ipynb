{
 "cells": [
  {
   "cell_type": "code",
   "execution_count": 8,
   "metadata": {},
   "outputs": [
    {
     "name": "stdout",
     "output_type": "stream",
     "text": [
      "Collecting pyttsx3\n",
      "  Downloading https://files.pythonhosted.org/packages/2f/ca/019a5d782f355bc2040ac45bd9612995652934dc16e48873d3fb2e367547/pyttsx3-2.71-py3-none-any.whl\n",
      "Collecting pypiwin32; \"win32\" in sys_platform (from pyttsx3)\n",
      "  Downloading https://files.pythonhosted.org/packages/d0/1b/2f292bbd742e369a100c91faa0483172cd91a1a422a6692055ac920946c5/pypiwin32-223-py3-none-any.whl\n",
      "Requirement already satisfied: pywin32>=223 in c:\\users\\akshita sharma\\anaconda3\\lib\\site-packages (from pypiwin32; \"win32\" in sys_platform->pyttsx3) (223)\n",
      "Installing collected packages: pypiwin32, pyttsx3\n",
      "Successfully installed pypiwin32-223 pyttsx3-2.71\n"
     ]
    }
   ],
   "source": [
    "!pip install pyttsx3"
   ]
  },
  {
   "cell_type": "code",
   "execution_count": 12,
   "metadata": {},
   "outputs": [],
   "source": [
    "import webbrowser\n",
    "import string\n",
    "import speech_recognition as sr\n",
    "import pyttsx3"
   ]
  },
  {
   "cell_type": "code",
   "execution_count": 17,
   "metadata": {},
   "outputs": [
    {
     "name": "stdout",
     "output_type": "stream",
     "text": [
      "Hello! what can i help you find?\n",
      "Say any sports players name to see their Bio:\n",
      "Google Speech Recognition thinks you saidCristiano Ronaldo\n"
     ]
    }
   ],
   "source": [
    "r=sr.Recognizer()\n",
    "with sr.Microphone() as source:\n",
    "    print(\"Hello! what can i help you find?(Player]\")\n",
    "    k=pyttsx3.init()\n",
    "    k.say(\"Hello what can I help you find?(Player]\")\n",
    "    k.runAndWait()\n",
    "    audio=r.listen(source)\n",
    "if \"player\" in r.recognize_google(audio):\n",
    "    r2=sr.Recognizer()\n",
    "    url='https://en.wikipedia.org/wiki/'\n",
    "    with sr.Microphone() as source:\n",
    "        print(\"Say any sports players name to see their Bio:\")\n",
    "        k=pyttsx3.init()\n",
    "        k.say(\"Say any sports players name to see their Bio:\")\n",
    "        k.runAndWait()\n",
    "        \n",
    "        audio2=r2.listen(source)\n",
    "        \n",
    "        try:\n",
    "            print(\"Google Speech Recognition thinks you said\" + r2.recognize_google(audio2))\n",
    "            k=pyttsx3.init()\n",
    "            k.say(\"Google Speech Recognition thinks you said\" + r2.recognize_google(audio2))\n",
    "            k.runAndWait()\n",
    "            webbrowser.open_new(url+r2.recognize_google(audio2))\n",
    "            \n",
    "        except sr.UnknownValueError:\n",
    "            print(\"Google Speech recognition could not understand audio\")\n",
    "            k=pyttsx3.init()\n",
    "            k.say(\"Google Speech recognition could not understand audio\")\n",
    "            k.runAndWait()\n",
    "        \n",
    "        except sr.RequestError as e:\n",
    "            print(\"Could not request result for google speech recognition service. {0}\".format(e))\n",
    "            k=pyttsx3.init()\n",
    "            k.say(\"Could not request result for google speech recognition service. {0}\")\n",
    "            k.runAndWait()        \n",
    "            "
   ]
  }
 ],
 "metadata": {
  "kernelspec": {
   "display_name": "Python 3",
   "language": "python",
   "name": "python3"
  },
  "language_info": {
   "codemirror_mode": {
    "name": "ipython",
    "version": 3
   },
   "file_extension": ".py",
   "mimetype": "text/x-python",
   "name": "python",
   "nbconvert_exporter": "python",
   "pygments_lexer": "ipython3",
   "version": "3.7.3"
  }
 },
 "nbformat": 4,
 "nbformat_minor": 2
}
